{
  "nbformat": 4,
  "nbformat_minor": 0,
  "metadata": {
    "colab": {
      "provenance": []
    },
    "kernelspec": {
      "name": "python3",
      "display_name": "Python 3"
    },
    "language_info": {
      "name": "python"
    }
  },
  "cells": [
    {
      "cell_type": "code",
      "execution_count": 1,
      "metadata": {
        "id": "hcuKX9nZz7mh",
        "colab": {
          "base_uri": "https://localhost:8080/",
          "height": 646
        },
        "outputId": "aa0c932f-2805-4bfd-f7c8-e633ee124954"
      },
      "outputs": [
        {
          "output_type": "stream",
          "name": "stdout",
          "text": [
            "It looks like you are running Gradio on a hosted Jupyter notebook, which requires `share=True`. Automatically setting `share=True` (you can turn this off by setting `share=False` in `launch()` explicitly).\n",
            "\n",
            "Colab notebook detected. To show errors in colab notebook, set debug=True in launch()\n",
            "* Running on public URL: https://dc16a984cacb88312d.gradio.live\n",
            "\n",
            "This share link expires in 1 week. For free permanent hosting and GPU upgrades, run `gradio deploy` from the terminal in the working directory to deploy to Hugging Face Spaces (https://huggingface.co/spaces)\n"
          ]
        },
        {
          "output_type": "display_data",
          "data": {
            "text/plain": [
              "<IPython.core.display.HTML object>"
            ],
            "text/html": [
              "<div><iframe src=\"https://dc16a984cacb88312d.gradio.live\" width=\"100%\" height=\"500\" allow=\"autoplay; camera; microphone; clipboard-read; clipboard-write;\" frameborder=\"0\" allowfullscreen></iframe></div>"
            ]
          },
          "metadata": {}
        },
        {
          "output_type": "execute_result",
          "data": {
            "text/plain": []
          },
          "metadata": {},
          "execution_count": 1
        }
      ],
      "source": [
        "# 🍔 AI Food Calorie Estimator with Gemini 2.0 Flash API\n",
        "# -------------------------------------------------------\n",
        "# Features:\n",
        "#  1. Upload a food image\n",
        "#  2. Detect if it's a food item\n",
        "#  3. If not food -> show error\n",
        "#  4. If food -> analyze and give estimated calories & details\n",
        "\n",
        "# -------------------- 1. INSTALL LIBRARIES --------------------\n",
        "!pip install --quiet gradio pillow requests\n",
        "\n",
        "import gradio as gr\n",
        "import requests\n",
        "import base64\n",
        "from PIL import Image\n",
        "import io\n",
        "\n",
        "# -------------------- 2. GEMINI API CONFIG --------------------\n",
        "GEMINI_API_KEY = \"API_KEY\"\n",
        "GEMINI_URL = \"https://generativelanguage.googleapis.com/v1beta/models/gemini-2.0-flash:generateContent\"\n",
        "\n",
        "# -------------------- 3. FUNCTION TO ANALYZE FOOD IMAGE --------------------\n",
        "def analyze_food_image(img: Image.Image):\n",
        "    # Convert image to base64 for API\n",
        "    buffered = io.BytesIO()\n",
        "    img.convert(\"RGB\").save(buffered, format=\"JPEG\")\n",
        "    img_base64 = base64.b64encode(buffered.getvalue()).decode()\n",
        "\n",
        "    # Prompt for Gemini\n",
        "    prompt = \"\"\"\n",
        "    You are a professional food nutrition expert.\n",
        "    Task:\n",
        "    1. Identify if the uploaded image contains food.\n",
        "    2. If it is NOT a food item, return exactly: \"NOT_FOOD\".\n",
        "    3. If it IS a food item:\n",
        "       - Provide the food name.\n",
        "       - Estimate total calories (approximate).\n",
        "       - Provide brief nutritional details (like protein, carbs, fats).\n",
        "       - Suggest if it is healthy or should be eaten in moderation.\n",
        "    4. Return the answer in a clean and easy-to-read format for a class project.\n",
        "    Example format:\n",
        "    🍕 Food: Pizza\n",
        "    🔹 Estimated Calories: ~285 kcal per slice\n",
        "    🔹 Nutritional Info: High in carbs and fats\n",
        "    🔹 Health Tip: Enjoy in moderation due to high calories\n",
        "    \"\"\"\n",
        "\n",
        "    payload = {\n",
        "        \"contents\": [\n",
        "            {\n",
        "                \"parts\": [\n",
        "                    {\"text\": prompt},\n",
        "                    {\n",
        "                        \"inline_data\": {\n",
        "                            \"mime_type\": \"image/jpeg\",\n",
        "                            \"data\": img_base64\n",
        "                        }\n",
        "                    }\n",
        "                ]\n",
        "            }\n",
        "        ]\n",
        "    }\n",
        "\n",
        "    headers = {\n",
        "        \"Content-Type\": \"application/json\",\n",
        "        \"X-goog-api-key\": GEMINI_API_KEY\n",
        "    }\n",
        "\n",
        "    try:\n",
        "        response = requests.post(GEMINI_URL, headers=headers, json=payload)\n",
        "        result = response.json()\n",
        "\n",
        "        # Extract text safely\n",
        "        try:\n",
        "            output_text = result[\"candidates\"][0][\"content\"][\"parts\"][0][\"text\"].strip()\n",
        "        except:\n",
        "            return \"❌ Error: Could not analyze the image. Please try again.\"\n",
        "\n",
        "        # Handle NOT_FOOD\n",
        "        if \"NOT_FOOD\" in output_text.upper():\n",
        "            return \"❌ Error: Uploaded image does not appear to be food. Please upload a clear food image.\"\n",
        "\n",
        "        return f\"🍽 Food Analysis Result:\\n\\n{output_text}\"\n",
        "\n",
        "    except Exception as e:\n",
        "        return f\"❌ API Error: {str(e)}\"\n",
        "\n",
        "# -------------------- 4. GRADIO WEB APP --------------------\n",
        "demo = gr.Interface(\n",
        "    fn=analyze_food_image,\n",
        "    inputs=gr.Image(type=\"pil\", label=\"Upload Food Image\"),\n",
        "    outputs=gr.Textbox(label=\"Result\"),\n",
        "    title=\"🍔 AI Food Calorie Estimator (Gemini Powered)\",\n",
        "    description=\"Upload a food image. If it's valid, you'll get the estimated calories and health tips. If not, you'll get an error.\"\n",
        ")\n",
        "\n",
        "# -------------------- 5. LAUNCH APP --------------------\n",
        "demo.launch()\n"
      ]
    }
  ]
}